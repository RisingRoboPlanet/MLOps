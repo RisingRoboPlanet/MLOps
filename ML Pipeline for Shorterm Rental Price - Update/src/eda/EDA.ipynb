{
 "cells": [
  {
   "cell_type": "markdown",
   "id": "464905ca",
   "metadata": {},
   "source": [
    "# Exploratory Data Analysis"
   ]
  },
  {
   "cell_type": "code",
   "execution_count": 1,
   "id": "e8ca3f1d",
   "metadata": {},
   "outputs": [
    {
     "name": "stdout",
     "output_type": "stream",
     "text": [
      "Requirement already satisfied: protobuf==3.20.* in /home/divaalwi69/miniconda3/envs/mlflow-6eaebb524a914e2f90bfc8467a6918599a99af9e/lib/python3.10/site-packages (3.20.1)\r\n"
     ]
    }
   ],
   "source": [
    "!pip install protobuf==3.20.*"
   ]
  },
  {
   "cell_type": "code",
   "execution_count": 2,
   "id": "c2d37ccc",
   "metadata": {},
   "outputs": [],
   "source": [
    "import wandb\n",
    "import pandas as pd"
   ]
  },
  {
   "cell_type": "markdown",
   "id": "9ed3c92d",
   "metadata": {},
   "source": [
    "# Fetch the artifact"
   ]
  },
  {
   "cell_type": "code",
   "execution_count": 3,
   "id": "01bd9c6f",
   "metadata": {},
   "outputs": [
    {
     "name": "stderr",
     "output_type": "stream",
     "text": [
      "\u001b[34m\u001b[1mwandb\u001b[0m: Currently logged in as: \u001b[33mroboplanet\u001b[0m (use `wandb login --relogin` to force relogin)\n",
      "\u001b[34m\u001b[1mwandb\u001b[0m: wandb version 0.12.21 is available!  To upgrade, please run:\n",
      "\u001b[34m\u001b[1mwandb\u001b[0m:  $ pip install wandb --upgrade\n"
     ]
    },
    {
     "data": {
      "text/html": [
       "\n",
       "                Tracking run with wandb version 0.10.31<br/>\n",
       "                Syncing run <strong style=\"color:#cdcd00\">drawn-dawn-4</strong> to <a href=\"https://wandb.ai\" target=\"_blank\">Weights & Biases</a> <a href=\"https://docs.wandb.com/integrations/jupyter.html\" target=\"_blank\">(Documentation)</a>.<br/>\n",
       "                Project page: <a href=\"https://wandb.ai/roboplanet/nyc_airbnb\" target=\"_blank\">https://wandb.ai/roboplanet/nyc_airbnb</a><br/>\n",
       "                Run page: <a href=\"https://wandb.ai/roboplanet/nyc_airbnb/runs/hpcll1cm\" target=\"_blank\">https://wandb.ai/roboplanet/nyc_airbnb/runs/hpcll1cm</a><br/>\n",
       "                Run data is saved locally in <code>/home/divaalwi69/MLOps/ML-Pipeline-for-Shorterm-Rental-Price/src/eda/wandb/run-20220721_091416-hpcll1cm</code><br/><br/>\n",
       "            "
      ],
      "text/plain": [
       "<IPython.core.display.HTML object>"
      ]
     },
     "metadata": {},
     "output_type": "display_data"
    }
   ],
   "source": [
    "run = wandb.init(project=\"nyc_airbnb\", group=\"eda\", save_code=True)\n",
    "\n",
    "local_path = wandb.use_artifact(\"sample.csv:latest\").file()\n",
    "df = pd.read_csv(local_path)"
   ]
  },
  {
   "cell_type": "markdown",
   "id": "51bd7059",
   "metadata": {},
   "source": [
    "# Generate a profile on the entire dataframe"
   ]
  },
  {
   "cell_type": "code",
   "execution_count": 4,
   "id": "92fd8ee8",
   "metadata": {},
   "outputs": [
    {
     "name": "stdout",
     "output_type": "stream",
     "text": [
      "Requirement already satisfied: pandas_profiling in /home/divaalwi69/miniconda3/envs/mlflow-6eaebb524a914e2f90bfc8467a6918599a99af9e/lib/python3.10/site-packages (3.2.0)\n",
      "Requirement already satisfied: matplotlib>=3.2.0 in /home/divaalwi69/miniconda3/envs/mlflow-6eaebb524a914e2f90bfc8467a6918599a99af9e/lib/python3.10/site-packages (from pandas_profiling) (3.5.2)\n",
      "Requirement already satisfied: markupsafe~=2.1.1 in /home/divaalwi69/miniconda3/envs/mlflow-6eaebb524a914e2f90bfc8467a6918599a99af9e/lib/python3.10/site-packages (from pandas_profiling) (2.1.1)\n",
      "Requirement already satisfied: missingno>=0.4.2 in /home/divaalwi69/miniconda3/envs/mlflow-6eaebb524a914e2f90bfc8467a6918599a99af9e/lib/python3.10/site-packages (from pandas_profiling) (0.5.1)\n",
      "Requirement already satisfied: tangled-up-in-unicode==0.2.0 in /home/divaalwi69/miniconda3/envs/mlflow-6eaebb524a914e2f90bfc8467a6918599a99af9e/lib/python3.10/site-packages (from pandas_profiling) (0.2.0)\n",
      "Requirement already satisfied: visions[type_image_path]==0.7.4 in /home/divaalwi69/miniconda3/envs/mlflow-6eaebb524a914e2f90bfc8467a6918599a99af9e/lib/python3.10/site-packages (from pandas_profiling) (0.7.4)\n",
      "Requirement already satisfied: scipy>=1.4.1 in /home/divaalwi69/miniconda3/envs/mlflow-6eaebb524a914e2f90bfc8467a6918599a99af9e/lib/python3.10/site-packages (from pandas_profiling) (1.8.1)\n",
      "Requirement already satisfied: pandas!=1.0.0,!=1.0.1,!=1.0.2,!=1.1.0,>=0.25.3 in /home/divaalwi69/miniconda3/envs/mlflow-6eaebb524a914e2f90bfc8467a6918599a99af9e/lib/python3.10/site-packages (from pandas_profiling) (1.4.3)\n",
      "Requirement already satisfied: pydantic>=1.8.1 in /home/divaalwi69/miniconda3/envs/mlflow-6eaebb524a914e2f90bfc8467a6918599a99af9e/lib/python3.10/site-packages (from pandas_profiling) (1.9.1)\n",
      "Requirement already satisfied: jinja2>=2.11.1 in /home/divaalwi69/miniconda3/envs/mlflow-6eaebb524a914e2f90bfc8467a6918599a99af9e/lib/python3.10/site-packages (from pandas_profiling) (3.1.2)\n",
      "Requirement already satisfied: multimethod>=1.4 in /home/divaalwi69/miniconda3/envs/mlflow-6eaebb524a914e2f90bfc8467a6918599a99af9e/lib/python3.10/site-packages (from pandas_profiling) (1.8)\n",
      "Requirement already satisfied: seaborn>=0.10.1 in /home/divaalwi69/miniconda3/envs/mlflow-6eaebb524a914e2f90bfc8467a6918599a99af9e/lib/python3.10/site-packages (from pandas_profiling) (0.11.1)\n",
      "Requirement already satisfied: htmlmin>=0.1.12 in /home/divaalwi69/miniconda3/envs/mlflow-6eaebb524a914e2f90bfc8467a6918599a99af9e/lib/python3.10/site-packages (from pandas_profiling) (0.1.12)\n",
      "Requirement already satisfied: phik>=0.11.1 in /home/divaalwi69/miniconda3/envs/mlflow-6eaebb524a914e2f90bfc8467a6918599a99af9e/lib/python3.10/site-packages (from pandas_profiling) (0.12.2)\n",
      "Requirement already satisfied: tqdm>=4.48.2 in /home/divaalwi69/miniconda3/envs/mlflow-6eaebb524a914e2f90bfc8467a6918599a99af9e/lib/python3.10/site-packages (from pandas_profiling) (4.64.0)\n",
      "Requirement already satisfied: PyYAML>=5.0.0 in /home/divaalwi69/miniconda3/envs/mlflow-6eaebb524a914e2f90bfc8467a6918599a99af9e/lib/python3.10/site-packages (from pandas_profiling) (6.0)\n",
      "Requirement already satisfied: numpy>=1.16.0 in /home/divaalwi69/miniconda3/envs/mlflow-6eaebb524a914e2f90bfc8467a6918599a99af9e/lib/python3.10/site-packages (from pandas_profiling) (1.23.1)\n",
      "Requirement already satisfied: joblib~=1.1.0 in /home/divaalwi69/miniconda3/envs/mlflow-6eaebb524a914e2f90bfc8467a6918599a99af9e/lib/python3.10/site-packages (from pandas_profiling) (1.1.0)\n",
      "Requirement already satisfied: requests>=2.24.0 in /home/divaalwi69/miniconda3/envs/mlflow-6eaebb524a914e2f90bfc8467a6918599a99af9e/lib/python3.10/site-packages (from pandas_profiling) (2.28.1)\n",
      "Requirement already satisfied: attrs>=19.3.0 in /home/divaalwi69/miniconda3/envs/mlflow-6eaebb524a914e2f90bfc8467a6918599a99af9e/lib/python3.10/site-packages (from visions[type_image_path]==0.7.4->pandas_profiling) (21.4.0)\n",
      "Requirement already satisfied: networkx>=2.4 in /home/divaalwi69/miniconda3/envs/mlflow-6eaebb524a914e2f90bfc8467a6918599a99af9e/lib/python3.10/site-packages (from visions[type_image_path]==0.7.4->pandas_profiling) (2.8.5)\n",
      "Requirement already satisfied: Pillow in /home/divaalwi69/miniconda3/envs/mlflow-6eaebb524a914e2f90bfc8467a6918599a99af9e/lib/python3.10/site-packages (from visions[type_image_path]==0.7.4->pandas_profiling) (9.2.0)\n",
      "Requirement already satisfied: imagehash in /home/divaalwi69/miniconda3/envs/mlflow-6eaebb524a914e2f90bfc8467a6918599a99af9e/lib/python3.10/site-packages (from visions[type_image_path]==0.7.4->pandas_profiling) (4.2.1)\n",
      "Requirement already satisfied: fonttools>=4.22.0 in /home/divaalwi69/miniconda3/envs/mlflow-6eaebb524a914e2f90bfc8467a6918599a99af9e/lib/python3.10/site-packages (from matplotlib>=3.2.0->pandas_profiling) (4.34.4)\n",
      "Requirement already satisfied: pyparsing>=2.2.1 in /home/divaalwi69/miniconda3/envs/mlflow-6eaebb524a914e2f90bfc8467a6918599a99af9e/lib/python3.10/site-packages (from matplotlib>=3.2.0->pandas_profiling) (3.0.9)\n",
      "Requirement already satisfied: kiwisolver>=1.0.1 in /home/divaalwi69/miniconda3/envs/mlflow-6eaebb524a914e2f90bfc8467a6918599a99af9e/lib/python3.10/site-packages (from matplotlib>=3.2.0->pandas_profiling) (1.4.4)\n",
      "Requirement already satisfied: cycler>=0.10 in /home/divaalwi69/miniconda3/envs/mlflow-6eaebb524a914e2f90bfc8467a6918599a99af9e/lib/python3.10/site-packages (from matplotlib>=3.2.0->pandas_profiling) (0.11.0)\n",
      "Requirement already satisfied: packaging>=20.0 in /home/divaalwi69/miniconda3/envs/mlflow-6eaebb524a914e2f90bfc8467a6918599a99af9e/lib/python3.10/site-packages (from matplotlib>=3.2.0->pandas_profiling) (21.3)\n",
      "Requirement already satisfied: python-dateutil>=2.7 in /home/divaalwi69/miniconda3/envs/mlflow-6eaebb524a914e2f90bfc8467a6918599a99af9e/lib/python3.10/site-packages (from matplotlib>=3.2.0->pandas_profiling) (2.8.2)\n",
      "Requirement already satisfied: pytz>=2020.1 in /home/divaalwi69/miniconda3/envs/mlflow-6eaebb524a914e2f90bfc8467a6918599a99af9e/lib/python3.10/site-packages (from pandas!=1.0.0,!=1.0.1,!=1.0.2,!=1.1.0,>=0.25.3->pandas_profiling) (2022.1)\n",
      "Requirement already satisfied: typing-extensions>=3.7.4.3 in /home/divaalwi69/miniconda3/envs/mlflow-6eaebb524a914e2f90bfc8467a6918599a99af9e/lib/python3.10/site-packages (from pydantic>=1.8.1->pandas_profiling) (4.3.0)\n",
      "Requirement already satisfied: urllib3<1.27,>=1.21.1 in /home/divaalwi69/miniconda3/envs/mlflow-6eaebb524a914e2f90bfc8467a6918599a99af9e/lib/python3.10/site-packages (from requests>=2.24.0->pandas_profiling) (1.26.10)\n",
      "Requirement already satisfied: certifi>=2017.4.17 in /home/divaalwi69/miniconda3/envs/mlflow-6eaebb524a914e2f90bfc8467a6918599a99af9e/lib/python3.10/site-packages (from requests>=2.24.0->pandas_profiling) (2022.6.15)\n",
      "Requirement already satisfied: idna<4,>=2.5 in /home/divaalwi69/miniconda3/envs/mlflow-6eaebb524a914e2f90bfc8467a6918599a99af9e/lib/python3.10/site-packages (from requests>=2.24.0->pandas_profiling) (3.3)\n",
      "Requirement already satisfied: charset-normalizer<3,>=2 in /home/divaalwi69/miniconda3/envs/mlflow-6eaebb524a914e2f90bfc8467a6918599a99af9e/lib/python3.10/site-packages (from requests>=2.24.0->pandas_profiling) (2.1.0)\n",
      "Requirement already satisfied: six>=1.5 in /home/divaalwi69/miniconda3/envs/mlflow-6eaebb524a914e2f90bfc8467a6918599a99af9e/lib/python3.10/site-packages (from python-dateutil>=2.7->matplotlib>=3.2.0->pandas_profiling) (1.16.0)\n",
      "Requirement already satisfied: PyWavelets in /home/divaalwi69/miniconda3/envs/mlflow-6eaebb524a914e2f90bfc8467a6918599a99af9e/lib/python3.10/site-packages (from imagehash->visions[type_image_path]==0.7.4->pandas_profiling) (1.3.0)\n"
     ]
    }
   ],
   "source": [
    "!pip install --upgrade pandas_profiling"
   ]
  },
  {
   "cell_type": "code",
   "execution_count": 5,
   "id": "438ad0cf",
   "metadata": {},
   "outputs": [
    {
     "data": {
      "application/vnd.jupyter.widget-view+json": {
       "model_id": "8165200a0a3a450984a154bd6026865f",
       "version_major": 2,
       "version_minor": 0
      },
      "text/plain": [
       "Summarize dataset:   0%|          | 0/5 [00:00<?, ?it/s]"
      ]
     },
     "metadata": {},
     "output_type": "display_data"
    },
    {
     "data": {
      "application/vnd.jupyter.widget-view+json": {
       "model_id": "772c0f93fd7c46cfbbf558d4150d41f2",
       "version_major": 2,
       "version_minor": 0
      },
      "text/plain": [
       "Generate report structure:   0%|          | 0/1 [00:00<?, ?it/s]"
      ]
     },
     "metadata": {},
     "output_type": "display_data"
    },
    {
     "data": {
      "application/vnd.jupyter.widget-view+json": {
       "model_id": "",
       "version_major": 2,
       "version_minor": 0
      },
      "text/plain": [
       "Render widgets:   0%|          | 0/1 [00:00<?, ?it/s]"
      ]
     },
     "metadata": {},
     "output_type": "display_data"
    },
    {
     "data": {
      "application/vnd.jupyter.widget-view+json": {
       "model_id": "03d64a1e53b0426f97dfa21b7e6e3e2e",
       "version_major": 2,
       "version_minor": 0
      },
      "text/plain": [
       "VBox(children=(Tab(children=(Tab(children=(GridBox(children=(VBox(children=(GridspecLayout(children=(HTML(valu…"
      ]
     },
     "metadata": {},
     "output_type": "display_data"
    },
    {
     "name": "stderr",
     "output_type": "stream",
     "text": [
      "wandb: Network error (ConnectionError), entering retry loop.\n",
      "\u001b[34m\u001b[1mwandb\u001b[0m: Network error resolved after 0:00:38.526221, resuming normal operation.\n"
     ]
    }
   ],
   "source": [
    "import pandas_profiling\n",
    "\n",
    "profile = pandas_profiling.ProfileReport(df)\n",
    "profile.to_widgets()"
   ]
  },
  {
   "cell_type": "markdown",
   "id": "3781215a",
   "metadata": {},
   "source": [
    "# Preprocess data\n",
    "There are missing values in a few columns and the column last_review is a date but it is in string format. The price column has some outliers - there are some zeros and some very high prices. After talking to your stakeholders, you decide to consider from a minimum of  350 per night."
   ]
  },
  {
   "cell_type": "code",
   "execution_count": 6,
   "id": "447a65a1",
   "metadata": {},
   "outputs": [],
   "source": [
    "# Drop outliers\n",
    "min_price = 10\n",
    "max_price = 350\n",
    "idx = df['price'].between(min_price, max_price)\n",
    "df = df[idx].copy()\n",
    "\n",
    "# Convert last_review to datetime\n",
    "df['last_review'] = pd.to_datetime(df['last_review'])"
   ]
  },
  {
   "cell_type": "markdown",
   "id": "56e52c7e",
   "metadata": {},
   "source": [
    "NOTE: we did not impute missing values. We will do that in the inference pipeline, so we will be able to handle missing values also in production."
   ]
  },
  {
   "cell_type": "code",
   "execution_count": 7,
   "id": "7e2a0184",
   "metadata": {},
   "outputs": [
    {
     "name": "stdout",
     "output_type": "stream",
     "text": [
      "<class 'pandas.core.frame.DataFrame'>\n",
      "Int64Index: 19001 entries, 0 to 19999\n",
      "Data columns (total 16 columns):\n",
      " #   Column                          Non-Null Count  Dtype         \n",
      "---  ------                          --------------  -----         \n",
      " 0   id                              19001 non-null  int64         \n",
      " 1   name                            18994 non-null  object        \n",
      " 2   host_id                         19001 non-null  int64         \n",
      " 3   host_name                       18993 non-null  object        \n",
      " 4   neighbourhood_group             19001 non-null  object        \n",
      " 5   neighbourhood                   19001 non-null  object        \n",
      " 6   latitude                        19001 non-null  float64       \n",
      " 7   longitude                       19001 non-null  float64       \n",
      " 8   room_type                       19001 non-null  object        \n",
      " 9   price                           19001 non-null  int64         \n",
      " 10  minimum_nights                  19001 non-null  int64         \n",
      " 11  number_of_reviews               19001 non-null  int64         \n",
      " 12  last_review                     15243 non-null  datetime64[ns]\n",
      " 13  reviews_per_month               15243 non-null  float64       \n",
      " 14  calculated_host_listings_count  19001 non-null  int64         \n",
      " 15  availability_365                19001 non-null  int64         \n",
      "dtypes: datetime64[ns](1), float64(3), int64(7), object(5)\n",
      "memory usage: 2.5+ MB\n"
     ]
    }
   ],
   "source": [
    "df.info()"
   ]
  },
  {
   "cell_type": "markdown",
   "id": "65b74a91",
   "metadata": {},
   "source": [
    "# Close the wanb run"
   ]
  },
  {
   "cell_type": "code",
   "execution_count": 9,
   "id": "42760ad1",
   "metadata": {},
   "outputs": [
    {
     "data": {
      "text/html": [
       "<br/>Waiting for W&B process to finish, PID 19645<br/>Program ended successfully."
      ],
      "text/plain": [
       "<IPython.core.display.HTML object>"
      ]
     },
     "metadata": {},
     "output_type": "display_data"
    },
    {
     "data": {
      "application/vnd.jupyter.widget-view+json": {
       "model_id": "",
       "version_major": 2,
       "version_minor": 0
      },
      "text/plain": [
       "VBox(children=(Label(value=' 0.06MB of 0.06MB uploaded (0.02MB deduped)\\r'), FloatProgress(value=1.0, max=1.0)…"
      ]
     },
     "metadata": {},
     "output_type": "display_data"
    },
    {
     "data": {
      "text/html": [
       "Find user logs for this run at: <code>/home/divaalwi69/MLOps/ML-Pipeline-for-Shorterm-Rental-Price/src/eda/wandb/run-20220721_091416-hpcll1cm/logs/debug.log</code>"
      ],
      "text/plain": [
       "<IPython.core.display.HTML object>"
      ]
     },
     "metadata": {},
     "output_type": "display_data"
    },
    {
     "data": {
      "text/html": [
       "Find internal logs for this run at: <code>/home/divaalwi69/MLOps/ML-Pipeline-for-Shorterm-Rental-Price/src/eda/wandb/run-20220721_091416-hpcll1cm/logs/debug-internal.log</code>"
      ],
      "text/plain": [
       "<IPython.core.display.HTML object>"
      ]
     },
     "metadata": {},
     "output_type": "display_data"
    },
    {
     "data": {
      "text/html": [
       "Synced 7 W&B file(s), 0 media file(s), 4 artifact file(s) and 1 other file(s)"
      ],
      "text/plain": [
       "<IPython.core.display.HTML object>"
      ]
     },
     "metadata": {},
     "output_type": "display_data"
    },
    {
     "data": {
      "text/html": [
       "\n",
       "                    <br/>Synced <strong style=\"color:#cdcd00\">drawn-dawn-4</strong>: <a href=\"https://wandb.ai/roboplanet/nyc_airbnb/runs/hpcll1cm\" target=\"_blank\">https://wandb.ai/roboplanet/nyc_airbnb/runs/hpcll1cm</a><br/>\n",
       "                "
      ],
      "text/plain": [
       "<IPython.core.display.HTML object>"
      ]
     },
     "metadata": {},
     "output_type": "display_data"
    }
   ],
   "source": [
    "run.finish()"
   ]
  }
 ],
 "metadata": {
  "kernelspec": {
   "display_name": "Python 3 (ipykernel)",
   "language": "python",
   "name": "python3"
  },
  "language_info": {
   "codemirror_mode": {
    "name": "ipython",
    "version": 3
   },
   "file_extension": ".py",
   "mimetype": "text/x-python",
   "name": "python",
   "nbconvert_exporter": "python",
   "pygments_lexer": "ipython3",
   "version": "3.10.5"
  }
 },
 "nbformat": 4,
 "nbformat_minor": 5
}
